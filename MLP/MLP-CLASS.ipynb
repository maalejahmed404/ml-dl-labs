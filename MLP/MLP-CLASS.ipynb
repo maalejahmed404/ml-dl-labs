{
 "cells": [
  {
   "cell_type": "markdown",
   "metadata": {
    "id": "WpYK9fIlyZCq"
   },
   "source": [
    "# Lab Deep Learning / Multi-Layer Perceptron for classification / in pytorch\n",
    "\n",
    "**Author: geoffroy.peeters@telecom-paris.fr**\n",
    "\n",
    "For any remark or suggestion, please feel free to contact me.\n",
    "\n",
    "Last edit: 2020/04/27 peeters\n",
    "\n",
    "Read the \"introduction to pytorch\" slides first: https://perso.telecom-paristech.fr/gpeeters/doc/pytorch/\n",
    "\n",
    "**Is is recommended that you first perform the ```Lab Deep Learning / Multi-Layer Perceptron for regression / in pytorch``` Lab to understand how to write a Neural Network in pytorch.**\n",
    "\n",
    "\n",
    "## Objective:\n",
    "\n",
    "The objective of this lab is to develop a two hidden layers MLP to perform image **classification**.\n",
    "\n",
    "While the previous Lab ```Lab Deep Learning / Multi-Layer Perceptron for regression / in pytorch``` focused on how to write a Neural Network, the present Lab focuses on managing datasets and splitting training and testing .\n",
    "\n",
    "We will use MNIST for the image dataset.\n",
    "\n",
    "## Your task:\n",
    "\n",
    "You need to add the missing parts in the code (parts between ```# --- START CODE HERE``` and ```# --- END CODE HERE```)\n",
    "\n",
    "## Documentation:\n",
    "- NN: https://pytorch.org/docs/stable/nn.html\n",
    "- Autograd: https://pytorch.org/docs/stable/autograd.html\n",
    "- Optim: https://pytorch.org/docs/stable/optim.html\n"
   ]
  },
  {
   "cell_type": "code",
   "execution_count": 1,
   "metadata": {
    "id": "h6o3NZfNyZCt"
   },
   "outputs": [],
   "source": [
    "import torch\n",
    "import torch.nn as nn\n",
    "import torch.nn.functional as F\n",
    "import torch.optim as optim\n",
    "from torchvision import datasets, transforms\n",
    "import matplotlib.pyplot as plt"
   ]
  },
  {
   "cell_type": "markdown",
   "metadata": {
    "id": "Vy7u-IVkyZCu"
   },
   "source": [
    "## Data management\n",
    "\n",
    "It is common to separate the datasets into\n",
    "- a **training** part (used to find the network parameters which minimize the loss)\n",
    "- a **test part** (used to estimate the performances).\n",
    "\n",
    "The training part can itself be further splitted into a training and a validation part (the validation part is then used to fix the hyper-parameters of the system).\n",
    "\n",
    "When performing ```batch gradient descent``` the whole training set is used to compute the gradients (which itself is used for the parameter optimization).\n",
    "However when performing ```stochastic or mini-batch gradient descent``` only a part of the training data is used at each iteration.\n",
    "\n",
    "We therefore needs to write all the necessary code, to get these mini-batches of data, be sure that all data have been seen, potentially randomize the order of appearance of these data and potentially perform some modifications of the data before giving them to the network.\n",
    "\n",
    "Fortunatelly, pytorch has associated to it (but not included in it) a nice package (```torchvision```) which allows to do all that for us.\n",
    "\n",
    "This package allows to perform these process for any datasets but has a pre-tuned method for the ```MNIST```datasets.\n",
    "\n",
    "### Datasets\n",
    "\n",
    "In the following we will us ```datasets.MNIST``` to load the train and test data.\n",
    "\n",
    "We need to tell it to download the data, where to dowload them and if we want the training or the testing part of it.\n",
    "\n",
    "We then tell it if we want to apply some transformations to the data.\n",
    "\n",
    "For this lab, we will transform the data by\n",
    "- 1) transforming them to torch tensors (using ```transforms.ToTensor()```); since by default they are not torch tensors\n",
    "- 2) normalize them to zero mean and unit standard deviation (using ```transforms.Normalize()```).\n",
    "\n",
    "It is of course possible to also apply data augmentation.\n",
    "\n",
    "Since we have several transforms to be performed, we will compose them using ```transforms.Compose([transform1, transform2])```\n",
    "\n",
    "The corresponding datasets is a class which contains the pairs of [input tensors $X$, corresponding ground-truth label $y$].\n",
    "\n",
    "### Dataloader\n",
    "\n",
    "Another nice pytorch facility is the ```Dataloader``` which transforms the dataset to be used as an iterator (i.e. within ```for data in myDataloader: ```).\n",
    "\n",
    "Moreover, ```Dataloader``` allows to specify\n",
    "- how many data will be provided each time it is called (```batch_size```)\n",
    "- if the order of appearance of the data with be random (````shuffle````).\n",
    "\n",
    "We therefore convert our datasets (train and test) to ```DataLoader``` that are directly used as iterator during the iterations (it DataLoader manage directly the mini-batch and shuffling)."
   ]
  },
  {
   "cell_type": "code",
   "execution_count": 2,
   "metadata": {
    "colab": {
     "base_uri": "https://localhost:8080/"
    },
    "id": "zsSEvakPyZCv",
    "outputId": "9329a886-5dff-4273-b4f6-a90f2020bda2"
   },
   "outputs": [
    {
     "name": "stderr",
     "output_type": "stream",
     "text": [
      "100%|██████████████████████████████████████████████████████████████████████████████| 9.91M/9.91M [01:36<00:00, 103kB/s]\n",
      "100%|██████████████████████████████████████████████████████████████████████████████| 28.9k/28.9k [00:00<00:00, 365kB/s]\n",
      "100%|█████████████████████████████████████████████████████████████████████████████| 1.65M/1.65M [00:17<00:00, 92.4kB/s]\n",
      "100%|█████████████████████████████████████████████████████████████████████████████| 4.54k/4.54k [00:00<00:00, 28.0kB/s]\n"
     ]
    }
   ],
   "source": [
    "# --- START CODE HERE (01)\n",
    "train_set = datasets.MNIST('./data', train=True, download=True,\n",
    "                   transform=transforms.Compose([\n",
    "                       transforms.ToTensor(),\n",
    "                       transforms.Normalize((0.1307,), (0.3081,))\n",
    "                   ]))\n",
    "train_loader = torch.utils.data.DataLoader(train_set, batch_size=64, shuffle=True)\n",
    "\n",
    "test_set = datasets.MNIST('./data', train=False, download=True,\n",
    "                   transform=transforms.Compose([\n",
    "                       transforms.ToTensor(),\n",
    "                       transforms.Normalize((0.1307,), (0.3081,))\n",
    "                   ]))\n",
    "test_loader = torch.utils.data.DataLoader(test_set, batch_size=1000, shuffle=False)\n",
    "# --- END CODE HERE"
   ]
  },
  {
   "cell_type": "code",
   "execution_count": 3,
   "metadata": {
    "colab": {
     "base_uri": "https://localhost:8080/"
    },
    "id": "FFuEXr0tyZCw",
    "outputId": "8ddc6ad1-a645-4e1d-fa85-a8f448fc3374"
   },
   "outputs": [
    {
     "name": "stdout",
     "output_type": "stream",
     "text": [
      "dataset type: <class 'torchvision.datasets.mnist.MNIST'>\n",
      "dataset size: 60000\n",
      "X data: torch.Size([1, 28, 28])\n",
      "y data: 5\n"
     ]
    }
   ],
   "source": [
    "print(\"dataset type: {}\".format(type(train_set)))\n",
    "print(\"dataset size: {}\".format(len(train_set)))\n",
    "print(\"X data: {}\".format(train_set[0][0].size()))\n",
    "print(\"y data: {}\".format(train_set[0][1]))"
   ]
  },
  {
   "cell_type": "markdown",
   "metadata": {
    "id": "piAf25dxyZCx"
   },
   "source": [
    "### Display the first 5 data of MNIST dataset."
   ]
  },
  {
   "cell_type": "code",
   "execution_count": 4,
   "metadata": {
    "colab": {
     "base_uri": "https://localhost:8080/",
     "height": 168
    },
    "id": "Jsa2MAEhyZCx",
    "outputId": "1a259b62-9ffb-483b-cf42-f83a2d27b08a"
   },
   "outputs": [
    {
     "data": {
      "image/png": "[encoded data removed]",
      "text/plain": [
       "<Figure size 640x480 with 5 Axes>"
      ]
     },
     "metadata": {},
     "output_type": "display_data"
    }
   ],
   "source": [
    "# ------------------------------------\n",
    "for num in range(0,5):\n",
    "    one_data = next(iter(train_loader))\n",
    "    plt.subplot(1,5,num+1)\n",
    "    plt.imshow(one_data[0][0][0,:,:])\n",
    "    plt.title(one_data[1][0].item())"
   ]
  },
  {
   "cell_type": "markdown",
   "metadata": {
    "id": "bo6-KX8UyZCy"
   },
   "source": [
    "## Network setting\n",
    "\n",
    "While image classification, is usually performed using Convolutional Neural Networks, we will use here a Multi-Layer-Perceptron (also named ```fully-connected```).\n",
    "For this, we will flatten (i.e. convert the iamge 2D matrix to a 1D vector) the input images.\n",
    "\n",
    "- The input images are of size 28*28 and are converted to vectors of size ```n_in```=784.\n",
    "\n",
    "- The two hidden layers have````n_h1````=500 and ```n_h2```=256 unit/neurons each and ```Relu```activations.\n",
    "\n",
    "- The output are the ```n_out```=10 classes (the 10 digits to be recognized).\n",
    "\n",
    "Since we deal with a muti-class problem (10 classes), the output activations is therefore a ```softmax```.\n",
    "\n",
    "Note that since the ```softmax```output will be given to a ```cross-entropy```, the ```log```et the latter can be directly added to the ```softmax```. This leads to the pytorch function ```F.log_softmax```.\n"
   ]
  },
  {
   "cell_type": "code",
   "execution_count": 5,
   "metadata": {
    "id": "H0uIIQb9yZCy"
   },
   "outputs": [],
   "source": [
    "class Net(nn.Module):\n",
    "    def __init__(self):\n",
    "        n_in = 28*28\n",
    "        n_h1 = 500\n",
    "        n_h2 = 256\n",
    "        n_out = 10\n",
    "        super(Net, self).__init__()\n",
    "        # --- START CODE HERE  (02)\n",
    "        self.fc1 = nn.Linear(n_in, n_h1)\n",
    "        self.fc2 = nn.Linear(n_h1, n_h2)\n",
    "        self.fc3 = nn.Linear(n_h2, n_out)\n",
    "        # --- END CODE HERE\n",
    "    def forward(self, x):\n",
    "        # --- START CODE HERE  (03)\n",
    "        x = F.relu(self.fc1(x.view(-1,28*28)))\n",
    "        x = F.sigmoid(self.fc2(x))\n",
    "        x = self.fc3(x)\n",
    "        # --- END CODE HERE\n",
    "        return F.log_softmax(x, dim=1)"
   ]
  },
  {
   "cell_type": "markdown",
   "metadata": {
    "id": "x7qcgKFwyZCz"
   },
   "source": [
    "## Defining the train and test functions\n",
    "\n",
    "In the present lab, we distinguish between train and test data.\n",
    "We therefore write\n",
    "- a train function (to learn the network parameters on the train data),\n",
    "- a test function (to evaluate the network's performances on the test data).\n",
    "\n",
    "The ```train``` and ```test```function will perform the computation for a given ```epoch```.\n",
    "The functions therefore only need to ```loop over``` the mini-batches.\n",
    "This is now easy since we defined our ```Dataloader```for train and test.\n",
    "\n",
    "For the train function, for each mini-batch, we  \n",
    "- compute the forward pass by passing the data to the model: haty = model(x)\n",
    "- compute the the loss (the criterion)\n",
    "- putting at zero the gradients of all the parameters of the network (this is important since, by default, pytorch accumulate the gradients over time)\n",
    "- computing the backpropagation (using as before .backward())\n",
    "- performing one step of optimization (using .step())\n",
    "\n",
    "For the train function, we set the model to train mode (```model.train()```). This allows to set some specific behaviours for training (such as activate the dropout).\n",
    "\n",
    "For the test function, we set the model to train mode (```model.eval()```). This allows to set some specific behaviours for training (such as removing the dropout).\n",
    "\n",
    "\n",
    "Since we are dealing with a multi-class problem (10 classes), we will minimize as loss the ```cross-entropy``` (named negative-log-likelihood ```nll_loss```in pytorch).\n",
    "Since ```nll_loss```does not contains the ```log``` we have added it directly to the softmax by using the ```log_softmax```as output activation of our network.\n",
    "\n",
    "Note that we could use the loss from the nn package (```torch.nn.NLLLoss```) it is then a class which needs to be first instanciated.\n",
    "We can also use the same but as a function (```F.nll_loss()```) which can be used directly without instanciating the class."
   ]
  },
  {
   "cell_type": "markdown",
   "metadata": {
    "id": "pHv34DalxkVE"
   },
   "source": [
    "## Defining the train and test functions\n",
    "\n",
    "In the present lab, we distinguish between train and test data.\n",
    "We therefore write\n",
    "- a train function (to learn the network parameters on the train data),\n",
    "- a test function (to evaluate the network's performances on the test data).\n",
    "\n",
    "The ```train``` and ```test```function will perform the computation for a given ```epoch```.\n",
    "The functions therefore only need to ```loop over``` the mini-batches.\n",
    "This is now easy since we defined our ```Dataloader```for train and test.\n",
    "\n",
    "For the train function, for each mini-batch, we  \n",
    "- compute the forward pass by passing the data to the model: haty = model(x)\n",
    "- compute the the loss (the criterion)\n",
    "- putting at zero the gradients of all the parameters of the network (this is important since, by default, pytorch accumulate the gradients over time)\n",
    "- computing the backpropagation (using as before .backward())\n",
    "- performing one step of optimization (using .step())\n",
    "\n",
    "For the train function, we set the model to train mode (```model.train()```). This allows to set some specific behaviours for training (such as activate the dropout).\n",
    "\n",
    "For the test function, we set the model to train mode (```model.eval()```). This allows to set some specific behaviours for training (such as removing the dropout).\n",
    "\n",
    "\n",
    "Since we are dealing with a multi-class problem (10 classes), we will minimize as loss the ```cross-entropy``` (named negative-log-likelihood ```nll_loss```in pytorch).\n",
    "Since ```nll_loss```does not contains the ```log``` we have added it directly to the softmax by using the ```log_softmax```as output activation of our network.\n",
    "\n",
    "Note that we could use the loss from the nn package (```torch.nn.NLLLoss```) it is then a class which needs to be first instanciated.\n",
    "We can also use the same but as a function (```F.nll_loss()```) which can be used directly without instanciating the class."
   ]
  },
  {
   "cell_type": "code",
   "execution_count": 6,
   "metadata": {
    "id": "3dGuPt96yZCz"
   },
   "outputs": [],
   "source": [
    "def train(model, train_loader, optimizer, epoch):\n",
    "    model.train()\n",
    "    for batch_idx, (data, target) in enumerate(train_loader):\n",
    "        # --- START CODE HERE  (04)\n",
    "        optimizer.zero_grad()\n",
    "        output = model(data)\n",
    "        loss = F.nll_loss(output, target)\n",
    "        loss.backward()\n",
    "        optimizer.step()\n",
    "        # --- END CODE HERE\n",
    "\n",
    "        if batch_idx % 100 == 0:\n",
    "            print('epoch {}, loss {}'.format(epoch, loss.item()))"
   ]
  },
  {
   "cell_type": "code",
   "execution_count": 7,
   "metadata": {
    "id": "zI8QtzV2yZC0"
   },
   "outputs": [],
   "source": [
    "def test(model, test_loader):\n",
    "    model.eval()\n",
    "    test_loss = 0\n",
    "    correct = 0\n",
    "    with torch.no_grad():\n",
    "        for data, target in test_loader:\n",
    "            # --- START CODE HERE  (05)\n",
    "            output = model(data)\n",
    "            test_loss += F.nll_loss(output, target, reduction='sum').item() # sum up batch loss\n",
    "            pred = output.argmax(dim=1, keepdim=True) # get the index of the max log-probability\n",
    "            correct += pred.eq(target.view_as(pred)).sum().item()\n",
    "\n",
    "            # --- STOP CODE HERE\n",
    "\n",
    "    test_loss /= len(test_loader.dataset)\n",
    "    correct /= len(test_loader.dataset)\n",
    "    print('\\nTest set: Average loss: {}, Accuracy: {}\\n'.format(test_loss, correct))"
   ]
  },
  {
   "cell_type": "markdown",
   "metadata": {
    "id": "9MXQIbcJyZC0"
   },
   "source": [
    "## Looping over epochs\n",
    "\n",
    "\n",
    "We finally define, how we will optimize our parameters by defining an optimizer.\n",
    "We will use here a very simple one: the SGD (```optim.SGD```) with a learning rate of 0.01.\n",
    "\n",
    "At each iteration, we then call the train and the test function."
   ]
  },
  {
   "cell_type": "code",
   "execution_count": 8,
   "metadata": {
    "colab": {
     "base_uri": "https://localhost:8080/"
    },
    "id": "ofYcX05ZyZC0",
    "outputId": "f13570d4-90cf-4bdb-86de-3837232d78d0"
   },
   "outputs": [
    {
     "name": "stdout",
     "output_type": "stream",
     "text": [
      "epoch 1, loss 2.344913959503174\n",
      "epoch 1, loss 1.052204966545105\n",
      "epoch 1, loss 0.4088265597820282\n",
      "epoch 1, loss 0.49221423268318176\n",
      "epoch 1, loss 0.2687614858150482\n",
      "epoch 1, loss 0.3170851171016693\n",
      "epoch 1, loss 0.27110370993614197\n",
      "epoch 1, loss 0.26123055815696716\n",
      "epoch 1, loss 0.3287530839443207\n",
      "epoch 1, loss 0.17922574281692505\n",
      "\n",
      "Test set: Average loss: 0.22405285034179687, Accuracy: 0.9312\n",
      "\n",
      "epoch 2, loss 0.11786273866891861\n",
      "epoch 2, loss 0.21292881667613983\n",
      "epoch 2, loss 0.3347436487674713\n",
      "epoch 2, loss 0.1746906340122223\n",
      "epoch 2, loss 0.3836020231246948\n",
      "epoch 2, loss 0.1225140392780304\n",
      "epoch 2, loss 0.2078806757926941\n",
      "epoch 2, loss 0.1100308746099472\n",
      "epoch 2, loss 0.20173552632331848\n",
      "epoch 2, loss 0.07072331756353378\n",
      "\n",
      "Test set: Average loss: 0.1482344352722168, Accuracy: 0.9557\n",
      "\n",
      "epoch 3, loss 0.16704674065113068\n",
      "epoch 3, loss 0.12202616780996323\n",
      "epoch 3, loss 0.10849492996931076\n",
      "epoch 3, loss 0.1162867471575737\n",
      "epoch 3, loss 0.15761980414390564\n",
      "epoch 3, loss 0.17104364931583405\n",
      "epoch 3, loss 0.18138976395130157\n",
      "epoch 3, loss 0.09102769941091537\n",
      "epoch 3, loss 0.0967731699347496\n",
      "epoch 3, loss 0.07826647162437439\n",
      "\n",
      "Test set: Average loss: 0.11041179466247558, Accuracy: 0.9652\n",
      "\n",
      "epoch 4, loss 0.07072114944458008\n",
      "epoch 4, loss 0.13229843974113464\n",
      "epoch 4, loss 0.07715443521738052\n",
      "epoch 4, loss 0.12162758409976959\n",
      "epoch 4, loss 0.13718433678150177\n",
      "epoch 4, loss 0.11712977290153503\n",
      "epoch 4, loss 0.1860559582710266\n",
      "epoch 4, loss 0.06015566736459732\n",
      "epoch 4, loss 0.1125389039516449\n",
      "epoch 4, loss 0.09155372530221939\n",
      "\n",
      "Test set: Average loss: 0.09435028858184814, Accuracy: 0.9708\n",
      "\n",
      "epoch 5, loss 0.07167870551347733\n",
      "epoch 5, loss 0.13035833835601807\n",
      "epoch 5, loss 0.028827935457229614\n",
      "epoch 5, loss 0.2751513123512268\n",
      "epoch 5, loss 0.052695225924253464\n",
      "epoch 5, loss 0.14995203912258148\n",
      "epoch 5, loss 0.02895038016140461\n",
      "epoch 5, loss 0.04616876319050789\n",
      "epoch 5, loss 0.051427412778139114\n",
      "epoch 5, loss 0.08029115200042725\n",
      "\n",
      "Test set: Average loss: 0.07814935283660888, Accuracy: 0.9758\n",
      "\n",
      "epoch 6, loss 0.02475934475660324\n",
      "epoch 6, loss 0.02724418230354786\n",
      "epoch 6, loss 0.018166417255997658\n",
      "epoch 6, loss 0.03421314060688019\n",
      "epoch 6, loss 0.03410499915480614\n",
      "epoch 6, loss 0.038728851824998856\n",
      "epoch 6, loss 0.08993673324584961\n",
      "epoch 6, loss 0.011185619980096817\n",
      "epoch 6, loss 0.018249625340104103\n",
      "epoch 6, loss 0.13050603866577148\n",
      "\n",
      "Test set: Average loss: 0.07673983192443848, Accuracy: 0.9756\n",
      "\n",
      "epoch 7, loss 0.016156364232301712\n",
      "epoch 7, loss 0.012022501789033413\n",
      "epoch 7, loss 0.032598648220300674\n",
      "epoch 7, loss 0.0257657989859581\n",
      "epoch 7, loss 0.06479986757040024\n",
      "epoch 7, loss 0.02995452657341957\n",
      "epoch 7, loss 0.015070975758135319\n",
      "epoch 7, loss 0.030861753970384598\n",
      "epoch 7, loss 0.15521907806396484\n",
      "epoch 7, loss 0.05178293585777283\n",
      "\n",
      "Test set: Average loss: 0.08088843097686768, Accuracy: 0.9746\n",
      "\n",
      "epoch 8, loss 0.024841805920004845\n",
      "epoch 8, loss 0.04778638109564781\n",
      "epoch 8, loss 0.02892187051475048\n",
      "epoch 8, loss 0.008490675128996372\n",
      "epoch 8, loss 0.045097313821315765\n",
      "epoch 8, loss 0.03744012862443924\n",
      "epoch 8, loss 0.011873649433255196\n",
      "epoch 8, loss 0.035184577107429504\n",
      "epoch 8, loss 0.046719059348106384\n",
      "epoch 8, loss 0.027660738676786423\n",
      "\n",
      "Test set: Average loss: 0.06211519594192505, Accuracy: 0.9802\n",
      "\n",
      "epoch 9, loss 0.015752172097563744\n",
      "epoch 9, loss 0.030967798084020615\n",
      "epoch 9, loss 0.054453808814287186\n",
      "epoch 9, loss 0.02187221497297287\n",
      "epoch 9, loss 0.026695409789681435\n",
      "epoch 9, loss 0.024055438116192818\n",
      "epoch 9, loss 0.04549608752131462\n",
      "epoch 9, loss 0.03118475154042244\n",
      "epoch 9, loss 0.005412162747234106\n",
      "epoch 9, loss 0.010077431797981262\n",
      "\n",
      "Test set: Average loss: 0.06046515693664551, Accuracy: 0.9803\n",
      "\n",
      "epoch 10, loss 0.030916042625904083\n",
      "epoch 10, loss 0.038505274802446365\n",
      "epoch 10, loss 0.07757921516895294\n",
      "epoch 10, loss 0.0696662962436676\n",
      "epoch 10, loss 0.004147789906710386\n",
      "epoch 10, loss 0.04616057127714157\n",
      "epoch 10, loss 0.040815964341163635\n",
      "epoch 10, loss 0.017764108255505562\n",
      "epoch 10, loss 0.020281294360756874\n",
      "epoch 10, loss 0.049220010638237\n",
      "\n",
      "Test set: Average loss: 0.05974569673538208, Accuracy: 0.9804\n",
      "\n"
     ]
    }
   ],
   "source": [
    "model = Net()\n",
    "optimizer = optim.SGD(model.parameters(), lr=0.01, momentum=0.9)\n",
    "nb_epoch = 10\n",
    "for epoch in range(1, nb_epoch + 1):\n",
    "        # --- START CODE HERE  (06)\n",
    "        train(model, train_loader, optimizer, epoch)\n",
    "        test(model, test_loader)\n",
    "        # --- END CODE HERE"
   ]
  },
  {
   "cell_type": "code",
   "execution_count": 13,
   "metadata": {
    "id": "Rmga0J_oyZC1"
   },
   "outputs": [],
   "source": []
  }
 ],
 "metadata": {
  "colab": {
   "provenance": []
  },
  "kernelspec": {
   "display_name": "Python 3 (ipykernel)",
   "language": "python",
   "name": "python3"
  },
  "language_info": {
   "codemirror_mode": {
    "name": "ipython",
    "version": 3
   },
   "file_extension": ".py",
   "mimetype": "text/x-python",
   "name": "python",
   "nbconvert_exporter": "python",
   "pygments_lexer": "ipython3",
   "version": "3.9.13"
  },
  "toc": {
   "base_numbering": 1,
   "nav_menu": {},
   "number_sections": true,
   "sideBar": true,
   "skip_h1_title": false,
   "title_cell": "Table of Contents",
   "title_sidebar": "Contents",
   "toc_cell": false,
   "toc_position": {
    "height": "calc(100% - 180px)",
    "left": "10px",
    "top": "150px",
    "width": "165px"
   },
   "toc_section_display": true,
   "toc_window_display": false
  }
 },
 "nbformat": 4,
 "nbformat_minor": 1
}
